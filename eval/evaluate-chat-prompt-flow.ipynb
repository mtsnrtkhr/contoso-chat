{
 "cells": [
  {
   "cell_type": "markdown",
   "metadata": {},
   "source": [
    "# Local Evaluation - Groundedness\n",
    "\n",
    "After you have setup and configured the prompt flow, its time to evaluation its performance. Here we can use the prompt flow SDK to test different questions and see how the prompt flow performs using the evaluation prompt flows provided."
   ]
  },
  {
   "cell_type": "code",
   "execution_count": 1,
   "metadata": {},
   "outputs": [
    {
     "data": {
      "text/plain": [
       "True"
      ]
     },
     "execution_count": 1,
     "metadata": {},
     "output_type": "execute_result"
    }
   ],
   "source": [
    "from promptflow import PFClient\n",
    "\n",
    "pf_client = PFClient()\n",
    "\n",
    "from dotenv import load_dotenv\n",
    "\n",
    "load_dotenv()"
   ]
  },
  {
   "cell_type": "code",
   "execution_count": 2,
   "metadata": {},
   "outputs": [
    {
     "name": "stderr",
     "output_type": "stream",
     "text": [
      "[2024-02-20 08:55:23,461][promptflow._sdk.entities._connection][WARNING] - Please use connection.secrets[key] to access secrets.\n"
     ]
    },
    {
     "name": "stdout",
     "output_type": "stream",
     "text": [
      "2024-02-20 08:55:23 +0000   17092 execution.flow     INFO     Start executing nodes in thread pool mode.\n",
      "2024-02-20 08:55:23 +0000   17092 execution.flow     INFO     Start to run 5 nodes with concurrency level 16.\n",
      "2024-02-20 08:55:23 +0000   17092 execution.flow     INFO     Executing node question_embedding. node run id: 339b88ff-c0f9-4ece-8689-71fa6a7634ab_question_embedding_0\n",
      "2024-02-20 08:55:23 +0000   17092 execution.flow     INFO     Executing node customer_lookup. node run id: 339b88ff-c0f9-4ece-8689-71fa6a7634ab_customer_lookup_0\n",
      "2024-02-20 08:55:24 +0000   17092 execution.flow     INFO     Node question_embedding completes.\n",
      "2024-02-20 08:55:24 +0000   17092 execution.flow     INFO     Executing node retrieve_documentation. node run id: 339b88ff-c0f9-4ece-8689-71fa6a7634ab_retrieve_documentation_0\n",
      "2024-02-20 08:55:25 +0000   17092 execution.flow     INFO     Node retrieve_documentation completes.\n",
      "2024-02-20 08:55:25 +0000   17092 execution.flow     INFO     Node customer_lookup completes.\n",
      "2024-02-20 08:55:25 +0000   17092 execution.flow     INFO     Executing node customer_prompt. node run id: 339b88ff-c0f9-4ece-8689-71fa6a7634ab_customer_prompt_0\n",
      "2024-02-20 08:55:25 +0000   17092 execution.flow     INFO     Node customer_prompt completes.\n",
      "2024-02-20 08:55:25 +0000   17092 execution.flow     INFO     Executing node llm_response. node run id: 339b88ff-c0f9-4ece-8689-71fa6a7634ab_llm_response_0\n",
      "2024-02-20 08:55:26 +0000   17092 execution.flow     WARNING  Output of llm_response is not json serializable, use str to store it.\n",
      "2024-02-20 08:55:26 +0000   17092 execution.flow     INFO     Node llm_response completes.\n"
     ]
    }
   ],
   "source": [
    "# Add a question to test the base prompt flow.\n",
    "question = \"Can you tell me about your jackets?\"\n",
    "customerId = \"4\"\n",
    "output = pf_client.test(\n",
    "    flow=\"../contoso-chat\", # Path to the flow directory\n",
    "    inputs={ # Inputs to the flow\n",
    "        \"chat_history\": [],\n",
    "        \"question\": question,\n",
    "        \"customerId\": customerId,\n",
    "    },\n",
    ")\n",
    "\n",
    "output[\"answer\"] = \"\".join(list(output[\"answer\"]))"
   ]
  },
  {
   "cell_type": "code",
   "execution_count": 3,
   "metadata": {},
   "outputs": [
    {
     "data": {
      "text/plain": [
       "{'answer': \"Of course, Sarah Lee! 😊 We have two amazing jackets that I think you'll love. \\nFirst, we have the Summit Breeze Jacket 🏔️. It's a lightweight jacket perfect for outdoor adventures. It's windproof, water-resistant, and has adjustable cuffs for added comfort. Plus, its sleek black color adds style to function. 🌬️💦\\n\\nAnother great option is the RainGuard Hiking Jacket ☔. This jacket is made with waterproof, breathable fabric, so you'll stay dry and comfortable in any weather. It also has adjustable features and ventilation zippers for added convenience. And, it comes with reflective details for enhanced visibility during evening treks. 🌧️🌟\\n\\nBoth jackets are great choices for your outdoor activities! Let me know if you have any other questions or if there's anything else I can assist you with. 😊🌲\",\n",
       " 'context': [{'id': '3',\n",
       "   'title': 'Summit Breeze Jacket',\n",
       "   'content': \"Discover the joy of hiking with MountainStyle's Summit Breeze Jacket. This lightweight jacket is your perfect companion for outdoor adventures. Sporting a trail-ready, windproof design and a water-resistant fabric, it's ready to withstand any weather. The breathable polyester material and adjustable cuffs keep you comfortable, whether you're ascending a mountain or strolling through a park. And its sleek black color adds style to function. The jacket features a full-zip front closure, adjustable hood, and secure zippered pockets. Experience the comfort of its inner lining and the convenience of its packable design. Crafted for night trekkers too, the jacket has reflective accents for enhanced visibility. Rugged yet chic, the Summit Breeze Jacket is more than a hiking essential, it's the gear that inspires you to reach new heights. Choose adventure, choose the Summit Breeze Jacket.\",\n",
       "   'url': '/products/summit-breeze-jacket'},\n",
       "  {'id': '17',\n",
       "   'title': 'RainGuard Hiking Jacket',\n",
       "   'content': \"Introducing the MountainStyle RainGuard Hiking Jacket - the ultimate solution for weatherproof comfort during your outdoor undertakings! Designed with waterproof, breathable fabric, this jacket promises an outdoor experience that's as dry as it is comfortable. The rugged construction assures durability, while the adjustable hood provides a customizable fit against wind and rain. Featuring multiple pockets for safe, convenient storage and adjustable cuffs and hem, you can tailor the jacket to suit your needs on-the-go. And, don't worry about overheating during intense activities - it's equipped with ventilation zippers for increased airflow. Reflective details ensure visibility even during low-light conditions, making it perfect for evening treks. With its lightweight, packable design, carrying it inside your backpack requires minimal effort. With options for men and women, the RainGuard Hiking Jacket is perfect for hiking, camping, trekking and countless other outdoor adventures. Don't let the weather stand in your way - embrace the outdoors with MountainStyle RainGuard Hiking Jacket!\",\n",
       "   'url': '/products/rainguard-hiking-jacket'},\n",
       "  {'id': '4',\n",
       "   'title': 'TrekReady Hiking Boots',\n",
       "   'content': \"Introducing the TrekReady Hiking Boots - stepping up your hiking game, one footprint at a time! Crafted from leather, these stylistic Trailmates are made to last. TrekReady infuses durability with its reinforced stitching and toe protection, making sure your journey is never stopped short. Comfort? They have that covered too! The boots are a haven with their breathable materials, cushioned insole, with padded collar and tongue; all nestled neatly within their lightweight design. As they say, it's what's inside that counts - so inside you'll find a moisture-wicking lining that quarantines stank and keeps your feet fresh as that mountaintop breeze. Remember the fear of slippery surfaces? With these boots, you can finally tell it to 'take a hike'! Their shock-absorbing midsoles and excellent traction capabilities promise stability at your every step. Beautifully finished in a traditional lace-up system, every adventurer deserves a pair of TrekReady Hiking Boots. Hike more, worry less!\",\n",
       "   'url': '/products/trekready-hiking-boots'}]}"
      ]
     },
     "execution_count": 3,
     "metadata": {},
     "output_type": "execute_result"
    }
   ],
   "source": [
    "output"
   ]
  },
  {
   "cell_type": "markdown",
   "metadata": {},
   "source": [
    "Test the groundedness of the prompt flow with the answer from the above question."
   ]
  },
  {
   "cell_type": "code",
   "execution_count": 4,
   "metadata": {},
   "outputs": [
    {
     "name": "stdout",
     "output_type": "stream",
     "text": [
      "2024-02-20 08:55:28 +0000   17092 execution.flow     INFO     Start executing nodes in thread pool mode.\n",
      "2024-02-20 08:55:28 +0000   17092 execution.flow     INFO     Start to run 2 nodes with concurrency level 16.\n",
      "2024-02-20 08:55:28 +0000   17092 execution.flow     INFO     Executing node groundedness_score. node run id: a581e286-231f-477c-9a45-cfe61651677a_groundedness_score_0\n",
      "2024-02-20 08:55:30 +0000   17092 execution.flow     INFO     Node groundedness_score completes.\n",
      "2024-02-20 08:55:30 +0000   17092 execution.flow     INFO     Executing node concat_scores. node run id: a581e286-231f-477c-9a45-cfe61651677a_concat_scores_0\n",
      "2024-02-20 08:55:30 +0000   17092 execution.flow     INFO     Node concat_scores completes.\n",
      "2024-02-20 08:55:30 +0000   17092 execution.flow     INFO     Start to run 1 nodes with concurrency level 16.\n",
      "2024-02-20 08:55:30 +0000   17092 execution.flow     INFO     Executing node aggregate_variants_results. node run id: a581e286-231f-477c-9a45-cfe61651677a_aggregate_variants_results_reduce\n",
      "2024-02-20 08:55:30 +0000   17092 execution.flow     INFO     Node aggregate_variants_results completes.\n"
     ]
    }
   ],
   "source": [
    "test = pf_client.test(\n",
    "    flow=\"groundedness\",\n",
    "    inputs={\n",
    "        \"question\": question,\n",
    "        \"context\": str(output[\"context\"]),\n",
    "        \"answer\": output[\"answer\"],\n",
    "    },\n",
    ")"
   ]
  },
  {
   "cell_type": "code",
   "execution_count": 5,
   "metadata": {},
   "outputs": [
    {
     "data": {
      "text/plain": [
       "{'gpt_groundedness': 5.0}"
      ]
     },
     "execution_count": 5,
     "metadata": {},
     "output_type": "execute_result"
    }
   ],
   "source": [
    "test"
   ]
  },
  {
   "cell_type": "markdown",
   "metadata": {},
   "source": [
    "# Local Evaluation - Multiple Metrics \n",
    "\n",
    "Now use the same prompt flow and test it against the Multi Evaluation flow for groundedness, coherence, fluency, and relevance."
   ]
  },
  {
   "cell_type": "code",
   "execution_count": 6,
   "metadata": {},
   "outputs": [
    {
     "name": "stdout",
     "output_type": "stream",
     "text": [
      "2024-02-20 08:55:30 +0000   17092 execution.flow     INFO     Start executing nodes in thread pool mode.\n",
      "2024-02-20 08:55:30 +0000   17092 execution.flow     INFO     Start to run 8 nodes with concurrency level 16.\n",
      "2024-02-20 08:55:30 +0000   17092 execution.flow     INFO     Executing node coherence_score. node run id: b0917371-88aa-4caf-9fed-2e4778694de2_coherence_score_0\n",
      "2024-02-20 08:55:30 +0000   17092 execution.flow     INFO     Executing node fluency_score. node run id: b0917371-88aa-4caf-9fed-2e4778694de2_fluency_score_0\n",
      "2024-02-20 08:55:30 +0000   17092 execution.flow     INFO     Executing node groundedness_score. node run id: b0917371-88aa-4caf-9fed-2e4778694de2_groundedness_score_0\n",
      "2024-02-20 08:55:30 +0000   17092 execution.flow     INFO     Executing node relevance_score. node run id: b0917371-88aa-4caf-9fed-2e4778694de2_relevance_score_0\n",
      "2024-02-20 08:55:31 +0000   17092 execution.flow     INFO     Node coherence_score completes.\n",
      "2024-02-20 08:55:31 +0000   17092 execution.flow     INFO     Executing node coherence_concat_scores. node run id: b0917371-88aa-4caf-9fed-2e4778694de2_coherence_concat_scores_0\n",
      "2024-02-20 08:55:31 +0000   17092 execution.flow     INFO     Node coherence_concat_scores completes.\n",
      "2024-02-20 08:55:32 +0000   17092 execution.flow     INFO     Node fluency_score completes.\n",
      "2024-02-20 08:55:32 +0000   17092 execution.flow     INFO     Executing node fluency_concat_scores. node run id: b0917371-88aa-4caf-9fed-2e4778694de2_fluency_concat_scores_0\n",
      "2024-02-20 08:55:32 +0000   17092 execution.flow     INFO     Node fluency_concat_scores completes.\n",
      "2024-02-20 08:55:33 +0000   17092 execution.flow     INFO     Node relevance_score completes.\n",
      "2024-02-20 08:55:33 +0000   17092 execution.flow     INFO     Executing node relevance_concat_scores. node run id: b0917371-88aa-4caf-9fed-2e4778694de2_relevance_concat_scores_0\n",
      "2024-02-20 08:55:33 +0000   17092 execution.flow     INFO     Node relevance_concat_scores completes.\n",
      "2024-02-20 08:55:37 +0000   17092 execution.flow     INFO     Node groundedness_score completes.\n",
      "2024-02-20 08:55:37 +0000   17092 execution.flow     INFO     Executing node groundedness_concat_scores. node run id: b0917371-88aa-4caf-9fed-2e4778694de2_groundedness_concat_scores_0\n",
      "2024-02-20 08:55:37 +0000   17092 execution.flow     INFO     Node groundedness_concat_scores completes.\n",
      "2024-02-20 08:55:37 +0000   17092 execution.flow     INFO     Start to run 4 nodes with concurrency level 16.\n",
      "2024-02-20 08:55:37 +0000   17092 execution.flow     INFO     Executing node coherence_aggregate_variants_results. node run id: b0917371-88aa-4caf-9fed-2e4778694de2_coherence_aggregate_variants_results_reduce\n",
      "2024-02-20 08:55:37 +0000   17092 execution.flow     INFO     Executing node fluency_aggregate_variants_results. node run id: b0917371-88aa-4caf-9fed-2e4778694de2_fluency_aggregate_variants_results_reduce\n",
      "2024-02-20 08:55:37 +0000   17092 execution.flow     INFO     Executing node groundedness_aggregate_variants_results. node run id: b0917371-88aa-4caf-9fed-2e4778694de2_groundedness_aggregate_variants_results_reduce\n",
      "2024-02-20 08:55:37 +0000   17092 execution.flow     INFO     Executing node relevance_aggregate_variants_results. node run id: b0917371-88aa-4caf-9fed-2e4778694de2_relevance_aggregate_variants_results_reduce\n",
      "2024-02-20 08:55:37 +0000   17092 execution.flow     INFO     Node coherence_aggregate_variants_results completes.\n",
      "2024-02-20 08:55:37 +0000   17092 execution.flow     INFO     Node fluency_aggregate_variants_results completes.\n",
      "2024-02-20 08:55:37 +0000   17092 execution.flow     INFO     Node groundedness_aggregate_variants_results completes.\n",
      "2024-02-20 08:55:37 +0000   17092 execution.flow     INFO     Node relevance_aggregate_variants_results completes.\n"
     ]
    }
   ],
   "source": [
    "test_multi = pf_client.test(\n",
    "    \"multi_flow\",\n",
    "    inputs={\n",
    "        \"question\": question,\n",
    "        \"context\": str(output[\"context\"]),\n",
    "        \"answer\": output[\"answer\"],\n",
    "    },\n",
    ")"
   ]
  },
  {
   "cell_type": "code",
   "execution_count": 7,
   "metadata": {},
   "outputs": [
    {
     "data": {
      "text/plain": [
       "{'gpt_coherence': 5.0,\n",
       " 'gpt_fluency': 5.0,\n",
       " 'gpt_groundedness': 5.0,\n",
       " 'gpt_relevance': 5.0}"
      ]
     },
     "execution_count": 7,
     "metadata": {},
     "output_type": "execute_result"
    }
   ],
   "source": [
    "test_multi"
   ]
  },
  {
   "cell_type": "markdown",
   "metadata": {},
   "source": [
    "# AI Studio Azure batch run on an evaluation json dataset\n",
    "\n",
    "Now in order to test these more thoroughly, we can use the Azure AI Studio to run batches of test data with the evaluation prompt flow on a larger dataset."
   ]
  },
  {
   "cell_type": "code",
   "execution_count": 8,
   "metadata": {},
   "outputs": [],
   "source": [
    "import json\n",
    "# Import required libraries\n",
    "from promptflow.azure import PFClient\n",
    "\n",
    "# Import required libraries\n",
    "from azure.identity import DefaultAzureCredential, InteractiveBrowserCredential"
   ]
  },
  {
   "cell_type": "code",
   "execution_count": 9,
   "metadata": {},
   "outputs": [],
   "source": [
    "try:\n",
    "    credential = DefaultAzureCredential()\n",
    "    # Check if given credential can get token successfully.\n",
    "    credential.get_token(\"https://management.azure.com/.default\")\n",
    "except Exception as ex:\n",
    "    # Fall back to InteractiveBrowserCredential in case DefaultAzureCredential not work\n",
    "    credential = InteractiveBrowserCredential()"
   ]
  },
  {
   "cell_type": "markdown",
   "metadata": {},
   "source": [
    "Populate the `config.json` file with the subscription_id, resource_group, and workspace_name."
   ]
  },
  {
   "cell_type": "code",
   "execution_count": 10,
   "metadata": {},
   "outputs": [
    {
     "name": "stderr",
     "output_type": "stream",
     "text": [
      "Found the config file in: ../config.json\n"
     ]
    }
   ],
   "source": [
    "config_path = \"../config.json\"\n",
    "pf_azure_client = PFClient.from_config(credential=credential, path=config_path)"
   ]
  },
  {
   "cell_type": "markdown",
   "metadata": {},
   "source": [
    "Add the runtime from the AI Studio that will be used for the cloud batch runs."
   ]
  },
  {
   "cell_type": "code",
   "execution_count": 11,
   "metadata": {},
   "outputs": [],
   "source": [
    "# Update the runtime to the name of the runtime you created previously\n",
    "runtime = \"automatic\"\n",
    "# load flow\n",
    "flow = \"../contoso-chat\"\n",
    "# load data\n",
    "data = \"../data/salestestdata.jsonl\""
   ]
  },
  {
   "cell_type": "code",
   "execution_count": 12,
   "metadata": {},
   "outputs": [
    {
     "name": "stdout",
     "output_type": "stream",
     "text": [
      "2024_02_20_085551chat_base_run\n"
     ]
    }
   ],
   "source": [
    "# get current time stamp for run name\n",
    "import datetime\n",
    "now = datetime.datetime.now()\n",
    "timestamp = now.strftime(\"%Y_%m_%d_%H%M%S\")\n",
    "run_name = timestamp+\"chat_base_run\"\n",
    "print(run_name)"
   ]
  },
  {
   "cell_type": "markdown",
   "metadata": {},
   "source": [
    "Create a base run to use as the variant for the evaluation runs. \n",
    "\n",
    "_NOTE: If you get \"'An existing connection was forcibly closed by the remote host'\" run the cell again._"
   ]
  },
  {
   "cell_type": "code",
   "execution_count": 13,
   "metadata": {},
   "outputs": [
    {
     "name": "stderr",
     "output_type": "stream",
     "text": [
      "\u001b[32mUploading salestestdata.jsonl\u001b[32m (< 1 MB): 100%|██████████| 465/465 [00:00<00:00, 2.96kB/s]\n",
      "\u001b[39m\n",
      "\n",
      "\u001b[32mUploading contoso-chat (0.68 MBs): 100%|██████████| 676856/676856 [00:01<00:00, 481511.34it/s]\n",
      "\u001b[39m\n",
      "\n",
      "[2024-02-20 08:55:56,435][promptflow][WARNING] - You're using automatic runtime, if it's first time you're using it, it may take a while to build runtime and you may see 'NotStarted' status for a while. \n"
     ]
    },
    {
     "name": "stdout",
     "output_type": "stream",
     "text": [
      "Portal url: https://ai.azure.com/projectflows/bulkrun/run/2024_02_20_085551chat_base_run/details?wsid=/subscriptions/1e4ae802-8745-41ee-82bc-39495818793d/resourcegroups/contoso-chat-rg/providers/Microsoft.MachineLearningServices/workspaces/contoso-chat-sf-aiproj\n",
      "name: 2024_02_20_085551chat_base_run\n",
      "created_on: '2024-02-20T08:56:00.776171+00:00'\n",
      "status: NotStarted\n",
      "display_name: 2024_02_20_085551chat_base_run\n",
      "description:\n",
      "tags: {}\n",
      "properties:\n",
      "  azureml.promptflow.runtime_name: automatic\n",
      "  azureml.promptflow.runtime_version: 20240205.v2\n",
      "  azureml.promptflow.definition_file_name: flow.dag.yaml\n",
      "  azureml.promptflow.flow_lineage_id: a6117409b8b717c7e79942d8573769a6d1f4ac180e7fabad302590d2b43bff3c\n",
      "  azureml.promptflow.flow_definition_datastore_name: workspaceblobstore\n",
      "  azureml.promptflow.flow_definition_blob_path: LocalUpload/9edf47f492fb06b9ce6ac78c9cfad6db/contoso-chat/flow.dag.yaml\n",
      "  azureml.promptflow.inputs_mapping: '{\"customerId\":\"${data.customerId}\",\"question\":\"${data.question}\"}'\n",
      "  _azureml.evaluation_run: promptflow.BatchRun\n",
      "  azureml.promptflow.session_id: 4a4ce4e9c3f0d61f9a2c4ac294681c5e2dbec377d21fc9e3\n",
      "creation_context:\n",
      "  userObjectId: 844b105e-3d6f-4ae3-8948-c668e62aaa5a\n",
      "  userPuId: 10032003563E3D77\n",
      "  userIdp:\n",
      "  userAltSecId:\n",
      "  userIss: https://sts.windows.net/d2f64b03-2cce-4f20-900e-b81248ebc1a8/\n",
      "  userTenantId: d2f64b03-2cce-4f20-900e-b81248ebc1a8\n",
      "  userName: User1-38079365\n",
      "  upn:\n",
      "start_time:\n",
      "end_time:\n",
      "duration:\n",
      "portal_url: \n",
      "  https://ai.azure.com/projectflows/bulkrun/run/2024_02_20_085551chat_base_run/details?wsid=/subscriptions/1e4ae802-8745-41ee-82bc-39495818793d/resourcegroups/contoso-chat-rg/providers/Microsoft.MachineLearningServices/workspaces/contoso-chat-sf-aiproj\n",
      "data: \n",
      "  azureml://datastores/workspaceblobstore/paths/LocalUpload/4d587c1ae8d46401e3a71b74abe367df/salestestdata.jsonl\n",
      "output:\n",
      "\n"
     ]
    }
   ],
   "source": [
    "# create base run in Azure Ai Studio\n",
    "base_run = pf_azure_client.run(\n",
    "    flow=flow,\n",
    "    data=data,\n",
    "    column_mapping={\n",
    "        # reference data\n",
    "        \"customerId\": \"${data.customerId}\",\n",
    "        \"question\": \"${data.question}\",\n",
    "    },\n",
    "    runtime=runtime,\n",
    "    # create a display name as current datetime\n",
    "    display_name=run_name,\n",
    "    name=run_name\n",
    ")\n",
    "print(base_run)"
   ]
  },
  {
   "cell_type": "code",
   "execution_count": 14,
   "metadata": {},
   "outputs": [
    {
     "name": "stdout",
     "output_type": "stream",
     "text": [
      "(Run status is 'NotStarted', continue streaming...)\n",
      "(Run status is 'NotStarted', continue streaming...)\n",
      "(Run status is 'NotStarted', continue streaming...)\n",
      "(Run status is 'NotStarted', continue streaming...)\n",
      "(Run status is 'NotStarted', continue streaming...)\n",
      "(Run status is 'NotStarted', continue streaming...)\n",
      "2024-02-20 08:59:40 +0000      51 promptflow-runtime INFO     [2024_02_20_085551chat_base_run] Receiving v2 bulk run request d8ac7d23-4bf1-489f-9973-551f3937c444: {\"flow_id\": \"2024_02_20_085551chat_base_run\", \"flow_run_id\": \"2024_02_20_085551chat_base_run\", \"flow_source\": {\"flow_source_type\": 1, \"flow_source_info\": {\"snapshot_id\": \"0f0a6b6d-1c20-4089-bd16-5629229b16d5\"}, \"flow_dag_file\": \"flow.dag.yaml\"}, \"connections\": \"**data_scrubbed**\", \"log_path\": \"https://stcontoso38079365.blob.core.windows.net/5e451cdd-2273-4e66-91a3-e0129c84f7c8-azureml/ExperimentRun/dcid.2024_02_20_085551chat_base_run/logs/azureml/executionlogs.txt?sv=2019-07-07&sr=b&sig=**data_scrubbed**&skoid=8f51bbc3-8e23-4519-aa65-bed07b9f903a&sktid=d2f64b03-2cce-4f20-900e-b81248ebc1a8&skt=2024-02-20T08%3A45%3A59Z&ske=2024-02-21T16%3A55%3A59Z&sks=b&skv=2019-07-07&st=2024-02-20T08%3A49%3A39Z&se=2024-02-20T16%3A59%3A39Z&sp=rcw\", \"app_insights_instrumentation_key\": \"InstrumentationKey=**data_scrubbed**;IngestionEndpoint=https://swedencentral-0.in.applicationinsights.azure.com/\", \"data_inputs\": {\"data\": \"azureml://datastores/workspaceblobstore/paths/LocalUpload/4d587c1ae8d46401e3a71b74abe367df/salestestdata.jsonl\"}, \"inputs_mapping\": {\"customerId\": \"${data.customerId}\", \"question\": \"${data.question}\"}, \"azure_storage_setting\": {\"azure_storage_mode\": 1, \"storage_account_name\": \"stcontoso38079365\", \"blob_container_name\": \"5e451cdd-2273-4e66-91a3-e0129c84f7c8-azureml-blobstore\", \"flow_artifacts_root_path\": \"promptflow/PromptFlowArtifacts/2024_02_20_085551chat_base_run\", \"blob_container_sas_token\": \"?sv=2019-07-07&sr=c&sig=**data_scrubbed**&skoid=8f51bbc3-8e23-4519-aa65-bed07b9f903a&sktid=d2f64b03-2cce-4f20-900e-b81248ebc1a8&skt=2024-02-20T08%3A59%3A39Z&ske=2024-02-27T08%3A59%3A39Z&sks=b&skv=2019-07-07&se=2024-02-27T08%3A59%3A39Z&sp=racwl\", \"output_datastore_name\": \"workspaceblobstore\"}}\n",
      "2024-02-20 08:59:41 +0000      51 promptflow-runtime INFO     Runtime version: 20240205.v2. PromptFlow version: 1.5.0rc6\n",
      "2024-02-20 08:59:41 +0000      51 promptflow-runtime INFO     Updating 2024_02_20_085551chat_base_run to Status.Preparing...\n",
      "2024-02-20 08:59:41 +0000      51 promptflow-runtime INFO     Downloading snapshot to /mnt/host/service/app/35733/requests/2024_02_20_085551chat_base_run\n",
      "2024-02-20 08:59:41 +0000      51 promptflow-runtime INFO     Get snapshot sas url for 0f0a6b6d-1c20-4089-bd16-5629229b16d5.\n",
      "2024-02-20 08:59:42 +0000      51 promptflow-runtime INFO     Snapshot 0f0a6b6d-1c20-4089-bd16-5629229b16d5 contains 13 files.\n",
      "2024-02-20 08:59:42 +0000      51 promptflow-runtime INFO     Download snapshot 0f0a6b6d-1c20-4089-bd16-5629229b16d5 completed.\n",
      "2024-02-20 08:59:42 +0000      51 promptflow-runtime INFO     Successfully download snapshot to /mnt/host/service/app/35733/requests/2024_02_20_085551chat_base_run\n",
      "2024-02-20 08:59:42 +0000      51 promptflow-runtime INFO     About to execute a python flow.\n",
      "2024-02-20 08:59:42 +0000      51 promptflow-runtime INFO     Use spawn method to start child process.\n",
      "2024-02-20 08:59:42 +0000      51 promptflow-runtime INFO     Starting to check process 200 status for run 2024_02_20_085551chat_base_run\n",
      "2024-02-20 08:59:42 +0000      51 promptflow-runtime INFO     Start checking run status for run 2024_02_20_085551chat_base_run\n",
      "2024-02-20 08:59:46 +0000     200 promptflow-runtime INFO     [51--200] Start processing flowV2......\n",
      "2024-02-20 08:59:46 +0000     200 promptflow-runtime INFO     Runtime version: 20240205.v2. PromptFlow version: 1.5.0rc6\n",
      "2024-02-20 08:59:46 +0000     200 promptflow-runtime INFO     Setting mlflow tracking uri...\n",
      "2024-02-20 08:59:46 +0000     200 promptflow-runtime INFO     Validating 'AzureML Data Scientist' user authentication...\n",
      "2024-02-20 08:59:47 +0000     200 promptflow-runtime INFO     Successfully validated 'AzureML Data Scientist' user authentication.\n",
      "2024-02-20 08:59:47 +0000     200 promptflow-runtime INFO     Using AzureMLRunStorageV2\n",
      "2024-02-20 08:59:47 +0000     200 promptflow-runtime INFO     Setting mlflow tracking uri to 'azureml://swedencentral.api.azureml.ms/mlflow/v1.0/subscriptions/1e4ae802-8745-41ee-82bc-39495818793d/resourceGroups/contoso-chat-rg/providers/Microsoft.MachineLearningServices/workspaces/contoso-chat-sf-aiproj'\n",
      "2024-02-20 08:59:47 +0000     200 promptflow-runtime INFO     Initialized blob service client.\n",
      "2024-02-20 08:59:47 +0000     200 promptflow-runtime INFO     Blob service client has api version: 2023-11-03\n",
      "2024-02-20 08:59:47 +0000     200 promptflow-runtime INFO     Setting mlflow tracking uri to 'azureml://swedencentral.api.azureml.ms/mlflow/v1.0/subscriptions/1e4ae802-8745-41ee-82bc-39495818793d/resourceGroups/contoso-chat-rg/providers/Microsoft.MachineLearningServices/workspaces/contoso-chat-sf-aiproj'\n",
      "2024-02-20 08:59:48 +0000     200 promptflow-runtime INFO     Resolve data from url finished in 1.3477449670000112 seconds\n",
      "2024-02-20 08:59:49 +0000     200 promptflow-runtime INFO     Starting the aml run '2024_02_20_085551chat_base_run'...\n",
      "2024-02-20 08:59:50 +0000     200 execution.bulk     INFO     Set process count to 4 by taking the minimum value among the factors of {'default_worker_count': 4, 'row_count': 5}.\n",
      "2024-02-20 08:59:55 +0000     200 execution.bulk     INFO     Process name(ForkProcess-2:2:2)-Process id(339)-Line number(0) start execution.\n",
      "2024-02-20 08:59:55 +0000     200 execution.bulk     INFO     Process name(ForkProcess-2:2:3)-Process id(348)-Line number(3) start execution.\n",
      "2024-02-20 08:59:55 +0000     200 execution.bulk     INFO     Process name(ForkProcess-2:2:4)-Process id(360)-Line number(1) start execution.\n",
      "2024-02-20 08:59:55 +0000     200 execution.bulk     INFO     Process name(ForkProcess-2:2:1)-Process id(331)-Line number(2) start execution.\n",
      "2024-02-20 09:00:03 +0000     200 execution.bulk     INFO     Process name(ForkProcess-2:2:3)-Process id(348)-Line number(3) completed.\n",
      "2024-02-20 09:00:03 +0000     200 execution.bulk     INFO     Process name(ForkProcess-2:2:3)-Process id(348)-Line number(4) start execution.\n",
      "2024-02-20 09:00:04 +0000     200 execution.bulk     INFO     Process name(ForkProcess-2:2:4)-Process id(360)-Line number(1) completed.\n",
      "2024-02-20 09:00:04 +0000     200 execution.bulk     INFO     Finished 2 / 5 lines.\n",
      "2024-02-20 09:00:04 +0000     200 execution.bulk     INFO     Average execution time for completed lines: 7.01 seconds. Estimated time for incomplete lines: 21.03 seconds.\n",
      "2024-02-20 09:00:04 +0000     200 execution.bulk     INFO     Process name(ForkProcess-2:2:1)-Process id(331)-Line number(2) completed.\n",
      "2024-02-20 09:00:04 +0000     200 execution.bulk     INFO     Process name(ForkProcess-2:2:2)-Process id(339)-Line number(0) completed.\n",
      "2024-02-20 09:00:05 +0000     200 execution.bulk     INFO     Finished 4 / 5 lines.\n",
      "2024-02-20 09:00:05 +0000     200 execution.bulk     INFO     Average execution time for completed lines: 3.76 seconds. Estimated time for incomplete lines: 3.76 seconds.\n",
      "2024-02-20 09:00:06 +0000     200 execution.bulk     INFO     Process name(ForkProcess-2:2:3)-Process id(348)-Line number(4) completed.\n",
      "2024-02-20 09:00:07 +0000     200 execution.bulk     INFO     Finished 5 / 5 lines.\n",
      "2024-02-20 09:00:07 +0000     200 execution.bulk     INFO     Average execution time for completed lines: 3.43 seconds. Estimated time for incomplete lines: 0.0 seconds.\n",
      "2024-02-20 09:00:08 +0000     200 promptflow-runtime INFO     Post processing batch result...\n",
      "2024-02-20 09:00:10 +0000     200 execution.bulk     INFO     Upload status summary metrics for run 2024_02_20_085551chat_base_run finished in 2.4616924839999967 seconds\n",
      "2024-02-20 09:00:10 +0000     200 promptflow-runtime INFO     Successfully write run properties {\"azureml.promptflow.total_tokens\": 7682, \"_azureml.evaluate_artifacts\": \"[{\\\"path\\\": \\\"instance_results.jsonl\\\", \\\"type\\\": \\\"table\\\"}]\"} with run id '2024_02_20_085551chat_base_run'\n",
      "2024-02-20 09:00:10 +0000     200 execution.bulk     INFO     Upload RH properties for run 2024_02_20_085551chat_base_run finished in 0.05089720899999861 seconds\n",
      "2024-02-20 09:00:10 +0000     200 promptflow-runtime INFO     Creating unregistered output Asset for Run 2024_02_20_085551chat_base_run...\n",
      "2024-02-20 09:00:11 +0000     200 promptflow-runtime INFO     Created debug_info Asset: azureml://locations/swedencentral/workspaces/5e451cdd-2273-4e66-91a3-e0129c84f7c8/data/azureml_2024_02_20_085551chat_base_run_output_data_debug_info/versions/1\n",
      "2024-02-20 09:00:11 +0000     200 promptflow-runtime INFO     Creating unregistered output Asset for Run 2024_02_20_085551chat_base_run...\n",
      "2024-02-20 09:00:11 +0000     200 promptflow-runtime INFO     Created flow_outputs output Asset: azureml://locations/swedencentral/workspaces/5e451cdd-2273-4e66-91a3-e0129c84f7c8/data/azureml_2024_02_20_085551chat_base_run_output_data_flow_outputs/versions/1\n",
      "2024-02-20 09:00:11 +0000     200 promptflow-runtime INFO     Creating Artifact for Run 2024_02_20_085551chat_base_run...\n",
      "2024-02-20 09:00:11 +0000     200 promptflow-runtime INFO     Created instance_results.jsonl Artifact.\n",
      "2024-02-20 09:00:11 +0000     200 promptflow-runtime INFO     Patching 2024_02_20_085551chat_base_run...\n",
      "2024-02-20 09:00:11 +0000     200 promptflow-runtime INFO     Ending the aml run '2024_02_20_085551chat_base_run' with status 'Completed'...\n",
      "======= Run Summary =======\n",
      "Run name: \"2024_02_20_085551chat_base_run\"\n",
      "Run status: \"Completed\"\n",
      "Start time: \"2024-02-20 08:59:49.343954+00:00\"\n",
      "Duration: \"0:00:22.459390\"\n",
      "Run url: \"https://ai.azure.com/projectflows/bulkrun/run/2024_02_20_085551chat_base_run/details?wsid=/subscriptions/1e4ae802-8745-41ee-82bc-39495818793d/resourcegroups/contoso-chat-rg/providers/Microsoft.MachineLearningServices/workspaces/contoso-chat-sf-aiproj\""
     ]
    },
    {
     "data": {
      "text/plain": [
       "<promptflow._sdk.entities._run.Run at 0x7f47f2d5bbd0>"
      ]
     },
     "execution_count": 14,
     "metadata": {},
     "output_type": "execute_result"
    }
   ],
   "source": [
    "pf_azure_client.stream(base_run)"
   ]
  },
  {
   "cell_type": "code",
   "execution_count": 15,
   "metadata": {},
   "outputs": [
    {
     "data": {
      "text/html": [
       "<div>\n",
       "<style scoped>\n",
       "    .dataframe tbody tr th:only-of-type {\n",
       "        vertical-align: middle;\n",
       "    }\n",
       "\n",
       "    .dataframe tbody tr th {\n",
       "        vertical-align: top;\n",
       "    }\n",
       "\n",
       "    .dataframe thead th {\n",
       "        text-align: right;\n",
       "    }\n",
       "</style>\n",
       "<table border=\"1\" class=\"dataframe\">\n",
       "  <thead>\n",
       "    <tr style=\"text-align: right;\">\n",
       "      <th></th>\n",
       "      <th>inputs.customerId</th>\n",
       "      <th>inputs.question</th>\n",
       "      <th>inputs.line_number</th>\n",
       "      <th>inputs.chat_history</th>\n",
       "      <th>outputs.answer</th>\n",
       "      <th>outputs.context</th>\n",
       "    </tr>\n",
       "    <tr>\n",
       "      <th>outputs.line_number</th>\n",
       "      <th></th>\n",
       "      <th></th>\n",
       "      <th></th>\n",
       "      <th></th>\n",
       "      <th></th>\n",
       "      <th></th>\n",
       "    </tr>\n",
       "  </thead>\n",
       "  <tbody>\n",
       "    <tr>\n",
       "      <th>0</th>\n",
       "      <td>4</td>\n",
       "      <td>tell me about your hiking jackets</td>\n",
       "      <td>0</td>\n",
       "      <td>[]</td>\n",
       "      <td>Hey Sarah Lee! 🌲🧥\\nOur hiking jackets are perf...</td>\n",
       "      <td>[{'id': '17', 'title': 'RainGuard Hiking Jacke...</td>\n",
       "    </tr>\n",
       "    <tr>\n",
       "      <th>1</th>\n",
       "      <td>1</td>\n",
       "      <td>Do you have any climbing gear?</td>\n",
       "      <td>1</td>\n",
       "      <td>[]</td>\n",
       "      <td>Hey John! 👋 Absolutely, we have some awesome c...</td>\n",
       "      <td>[{'id': '9', 'title': 'SummitClimber Backpack'...</td>\n",
       "    </tr>\n",
       "    <tr>\n",
       "      <th>2</th>\n",
       "      <td>3</td>\n",
       "      <td>Can you tell me about your selection of tents?</td>\n",
       "      <td>2</td>\n",
       "      <td>[]</td>\n",
       "      <td>Hey Michael! 👋 We've got a great selection of ...</td>\n",
       "      <td>[{'id': '15', 'title': 'SkyView 2-Person Tent'...</td>\n",
       "    </tr>\n",
       "    <tr>\n",
       "      <th>3</th>\n",
       "      <td>6</td>\n",
       "      <td>Do you have any hiking boots?</td>\n",
       "      <td>3</td>\n",
       "      <td>[]</td>\n",
       "      <td>Hey Emily! 👋 Absolutely, we have some fantasti...</td>\n",
       "      <td>[{'id': '4', 'title': 'TrekReady Hiking Boots'...</td>\n",
       "    </tr>\n",
       "    <tr>\n",
       "      <th>4</th>\n",
       "      <td>2</td>\n",
       "      <td>What gear do you recommend for hiking?</td>\n",
       "      <td>4</td>\n",
       "      <td>[]</td>\n",
       "      <td>Hey Jane! 🌲 For hiking, I highly recommend the...</td>\n",
       "      <td>[{'id': '10', 'title': 'TrailBlaze Hiking Pant...</td>\n",
       "    </tr>\n",
       "  </tbody>\n",
       "</table>\n",
       "</div>"
      ],
      "text/plain": [
       "                    inputs.customerId  \\\n",
       "outputs.line_number                     \n",
       "0                                   4   \n",
       "1                                   1   \n",
       "2                                   3   \n",
       "3                                   6   \n",
       "4                                   2   \n",
       "\n",
       "                                                    inputs.question  \\\n",
       "outputs.line_number                                                   \n",
       "0                                 tell me about your hiking jackets   \n",
       "1                                    Do you have any climbing gear?   \n",
       "2                    Can you tell me about your selection of tents?   \n",
       "3                                     Do you have any hiking boots?   \n",
       "4                            What gear do you recommend for hiking?   \n",
       "\n",
       "                     inputs.line_number inputs.chat_history  \\\n",
       "outputs.line_number                                           \n",
       "0                                     0                  []   \n",
       "1                                     1                  []   \n",
       "2                                     2                  []   \n",
       "3                                     3                  []   \n",
       "4                                     4                  []   \n",
       "\n",
       "                                                        outputs.answer  \\\n",
       "outputs.line_number                                                      \n",
       "0                    Hey Sarah Lee! 🌲🧥\\nOur hiking jackets are perf...   \n",
       "1                    Hey John! 👋 Absolutely, we have some awesome c...   \n",
       "2                    Hey Michael! 👋 We've got a great selection of ...   \n",
       "3                    Hey Emily! 👋 Absolutely, we have some fantasti...   \n",
       "4                    Hey Jane! 🌲 For hiking, I highly recommend the...   \n",
       "\n",
       "                                                       outputs.context  \n",
       "outputs.line_number                                                     \n",
       "0                    [{'id': '17', 'title': 'RainGuard Hiking Jacke...  \n",
       "1                    [{'id': '9', 'title': 'SummitClimber Backpack'...  \n",
       "2                    [{'id': '15', 'title': 'SkyView 2-Person Tent'...  \n",
       "3                    [{'id': '4', 'title': 'TrekReady Hiking Boots'...  \n",
       "4                    [{'id': '10', 'title': 'TrailBlaze Hiking Pant...  "
      ]
     },
     "execution_count": 15,
     "metadata": {},
     "output_type": "execute_result"
    }
   ],
   "source": [
    "details = pf_azure_client.get_details(base_run)\n",
    "details.head(10)"
   ]
  },
  {
   "cell_type": "markdown",
   "metadata": {},
   "source": [
    "# Cloud Eval run on Json Data"
   ]
  },
  {
   "cell_type": "code",
   "execution_count": 16,
   "metadata": {},
   "outputs": [
    {
     "name": "stdout",
     "output_type": "stream",
     "text": [
      "2024_02_20_085551chat_eval_run\n"
     ]
    },
    {
     "name": "stderr",
     "output_type": "stream",
     "text": [
      "\u001b[32mUploading multi_flow (0.03 MBs): 100%|██████████| 31979/31979 [00:01<00:00, 25298.28it/s]\n",
      "\u001b[39m\n",
      "\n",
      "[2024-02-20 09:00:31,012][promptflow][WARNING] - You're using automatic runtime, if it's first time you're using it, it may take a while to build runtime and you may see 'NotStarted' status for a while. \n"
     ]
    },
    {
     "name": "stdout",
     "output_type": "stream",
     "text": [
      "Portal url: https://ai.azure.com/projectflows/bulkrun/run/2024_02_20_085551chat_eval_run/details?wsid=/subscriptions/1e4ae802-8745-41ee-82bc-39495818793d/resourcegroups/contoso-chat-rg/providers/Microsoft.MachineLearningServices/workspaces/contoso-chat-sf-aiproj\n"
     ]
    }
   ],
   "source": [
    "eval_flow = \"multi_flow/\"\n",
    "data = \"../data/salestestdata.jsonl\"\n",
    "run_name = timestamp+\"chat_eval_run\"\n",
    "print(run_name)\n",
    "\n",
    "eval_run_variant = pf_azure_client.run(\n",
    "    flow=eval_flow,\n",
    "    data=data,  # path to the data file\n",
    "    run=base_run,  # use run as the variant\n",
    "    column_mapping={\n",
    "        # reference data\n",
    "        \"customerId\": \"${data.customerId}\",\n",
    "        \"question\": \"${data.question}\",\n",
    "        \"context\": \"${run.outputs.context}\",\n",
    "        # reference the run's output\n",
    "        \"answer\": \"${run.outputs.answer}\",\n",
    "    },\n",
    "    runtime=runtime,\n",
    "    display_name=run_name,\n",
    "    name=run_name\n",
    ")"
   ]
  },
  {
   "cell_type": "code",
   "execution_count": 17,
   "metadata": {},
   "outputs": [
    {
     "name": "stdout",
     "output_type": "stream",
     "text": [
      "(Run status is 'NotStarted', continue streaming...)\n",
      "2024-02-20 09:01:04 +0000      51 promptflow-runtime INFO     [2024_02_20_085551chat_eval_run] Receiving v2 bulk run request 814d2872-3371-4680-8664-d49ae99829d2: {\"flow_id\": \"2024_02_20_085551chat_eval_run\", \"flow_run_id\": \"2024_02_20_085551chat_eval_run\", \"flow_source\": {\"flow_source_type\": 1, \"flow_source_info\": {\"snapshot_id\": \"b935ddfa-1f6b-4474-9457-3b87f270da44\"}, \"flow_dag_file\": \"flow.dag.yaml\"}, \"connections\": \"**data_scrubbed**\", \"log_path\": \"https://stcontoso38079365.blob.core.windows.net/5e451cdd-2273-4e66-91a3-e0129c84f7c8-azureml/ExperimentRun/dcid.2024_02_20_085551chat_eval_run/logs/azureml/executionlogs.txt?sv=2019-07-07&sr=b&sig=**data_scrubbed**&skoid=8f51bbc3-8e23-4519-aa65-bed07b9f903a&sktid=d2f64b03-2cce-4f20-900e-b81248ebc1a8&skt=2024-02-20T08%3A45%3A59Z&ske=2024-02-21T16%3A55%3A59Z&sks=b&skv=2019-07-07&st=2024-02-20T08%3A51%3A03Z&se=2024-02-20T17%3A01%3A03Z&sp=rcw\", \"app_insights_instrumentation_key\": \"InstrumentationKey=**data_scrubbed**;IngestionEndpoint=https://swedencentral-0.in.applicationinsights.azure.com/\", \"data_inputs\": {\"data\": \"azureml://datastores/workspaceblobstore/paths/LocalUpload/4d587c1ae8d46401e3a71b74abe367df/salestestdata.jsonl\", \"run.outputs\": \"azureml:/subscriptions/1e4ae802-8745-41ee-82bc-39495818793d/resourceGroups/contoso-chat-rg/providers/Microsoft.MachineLearningServices/workspaces/contoso-chat-sf-aiproj/data/azureml_2024_02_20_085551chat_base_run_output_data_flow_outputs/versions/1\"}, \"inputs_mapping\": {\"customerId\": \"${data.customerId}\", \"question\": \"${data.question}\", \"context\": \"${run.outputs.context}\", \"answer\": \"${run.outputs.answer}\"}, \"azure_storage_setting\": {\"azure_storage_mode\": 1, \"storage_account_name\": \"stcontoso38079365\", \"blob_container_name\": \"5e451cdd-2273-4e66-91a3-e0129c84f7c8-azureml-blobstore\", \"flow_artifacts_root_path\": \"promptflow/PromptFlowArtifacts/2024_02_20_085551chat_eval_run\", \"blob_container_sas_token\": \"?sv=2019-07-07&sr=c&sig=**data_scrubbed**&skoid=8f51bbc3-8e23-4519-aa65-bed07b9f903a&sktid=d2f64b03-2cce-4f20-900e-b81248ebc1a8&skt=2024-02-20T09%3A01%3A03Z&ske=2024-02-27T09%3A01%3A03Z&sks=b&skv=2019-07-07&se=2024-02-27T09%3A01%3A03Z&sp=racwl\", \"output_datastore_name\": \"workspaceblobstore\"}}\n",
      "2024-02-20 09:01:04 +0000      51 promptflow-runtime INFO     Runtime version: 20240205.v2. PromptFlow version: 1.5.0rc6\n",
      "2024-02-20 09:01:04 +0000      51 promptflow-runtime INFO     Updating 2024_02_20_085551chat_eval_run to Status.Preparing...\n",
      "2024-02-20 09:01:04 +0000      51 promptflow-runtime INFO     Downloading snapshot to /mnt/host/service/app/38649/requests/2024_02_20_085551chat_eval_run\n",
      "2024-02-20 09:01:04 +0000      51 promptflow-runtime INFO     Get snapshot sas url for b935ddfa-1f6b-4474-9457-3b87f270da44.\n",
      "2024-02-20 09:01:04 +0000      51 promptflow-runtime INFO     Snapshot b935ddfa-1f6b-4474-9457-3b87f270da44 contains 23 files.\n",
      "2024-02-20 09:01:05 +0000      51 promptflow-runtime INFO     Download snapshot b935ddfa-1f6b-4474-9457-3b87f270da44 completed.\n",
      "2024-02-20 09:01:05 +0000      51 promptflow-runtime INFO     Successfully download snapshot to /mnt/host/service/app/38649/requests/2024_02_20_085551chat_eval_run\n",
      "2024-02-20 09:01:05 +0000      51 promptflow-runtime INFO     About to execute a python flow.\n",
      "2024-02-20 09:01:05 +0000      51 promptflow-runtime INFO     Use spawn method to start child process.\n",
      "2024-02-20 09:01:05 +0000      51 promptflow-runtime INFO     Starting to check process 200 status for run 2024_02_20_085551chat_eval_run\n",
      "2024-02-20 09:01:05 +0000      51 promptflow-runtime INFO     Start checking run status for run 2024_02_20_085551chat_eval_run\n",
      "2024-02-20 09:01:09 +0000     200 promptflow-runtime INFO     [51--200] Start processing flowV2......\n",
      "2024-02-20 09:01:09 +0000     200 promptflow-runtime INFO     Runtime version: 20240205.v2. PromptFlow version: 1.5.0rc6\n",
      "2024-02-20 09:01:09 +0000     200 promptflow-runtime INFO     Setting mlflow tracking uri...\n",
      "2024-02-20 09:01:10 +0000     200 promptflow-runtime INFO     Validating 'AzureML Data Scientist' user authentication...\n",
      "2024-02-20 09:01:10 +0000     200 promptflow-runtime INFO     Successfully validated 'AzureML Data Scientist' user authentication.\n",
      "2024-02-20 09:01:10 +0000     200 promptflow-runtime INFO     Using AzureMLRunStorageV2\n",
      "2024-02-20 09:01:10 +0000     200 promptflow-runtime INFO     Setting mlflow tracking uri to 'azureml://swedencentral.api.azureml.ms/mlflow/v1.0/subscriptions/1e4ae802-8745-41ee-82bc-39495818793d/resourceGroups/contoso-chat-rg/providers/Microsoft.MachineLearningServices/workspaces/contoso-chat-sf-aiproj'\n",
      "2024-02-20 09:01:10 +0000     200 promptflow-runtime INFO     Initialized blob service client.\n",
      "2024-02-20 09:01:10 +0000     200 promptflow-runtime INFO     Blob service client has api version: 2023-11-03\n",
      "2024-02-20 09:01:10 +0000     200 promptflow-runtime INFO     Setting mlflow tracking uri to 'azureml://swedencentral.api.azureml.ms/mlflow/v1.0/subscriptions/1e4ae802-8745-41ee-82bc-39495818793d/resourceGroups/contoso-chat-rg/providers/Microsoft.MachineLearningServices/workspaces/contoso-chat-sf-aiproj'\n",
      "2024-02-20 09:01:11 +0000     200 promptflow-runtime INFO     Resolve data from url finished in 1.134213649000003 seconds\n",
      "2024-02-20 09:01:12 +0000     200 promptflow-runtime INFO     Resolve data from url finished in 1.2958620760000485 seconds\n",
      "2024-02-20 09:01:12 +0000     200 promptflow-runtime INFO     Starting the aml run '2024_02_20_085551chat_eval_run'...\n",
      "2024-02-20 09:01:13 +0000     200 execution.bulk     INFO     Set process count to 4 by taking the minimum value among the factors of {'default_worker_count': 4, 'row_count': 5}.\n",
      "2024-02-20 09:01:17 +0000     200 execution.bulk     INFO     Process name(ForkProcess-2:2:4)-Process id(351)-Line number(1) start execution.\n",
      "2024-02-20 09:01:17 +0000     200 execution.bulk     INFO     Process name(ForkProcess-2:2:1)-Process id(331)-Line number(2) start execution.\n",
      "2024-02-20 09:01:17 +0000     200 execution.bulk     INFO     Process name(ForkProcess-2:2:3)-Process id(345)-Line number(3) start execution.\n",
      "2024-02-20 09:01:17 +0000     200 execution.bulk     INFO     Process name(ForkProcess-2:2:2)-Process id(339)-Line number(0) start execution.\n",
      "2024-02-20 09:01:19 +0000     200 execution.bulk     INFO     Process name(ForkProcess-2:2:1)-Process id(331)-Line number(2) completed.\n",
      "2024-02-20 09:01:19 +0000     200 execution.bulk     INFO     Process name(ForkProcess-2:2:1)-Process id(331)-Line number(4) start execution.\n",
      "2024-02-20 09:01:20 +0000     200 execution.bulk     INFO     Finished 1 / 5 lines.\n",
      "2024-02-20 09:01:20 +0000     200 execution.bulk     INFO     Average execution time for completed lines: 7.0 seconds. Estimated time for incomplete lines: 28.0 seconds.\n",
      "2024-02-20 09:01:29 +0000     200 execution.bulk     INFO     Process name(ForkProcess-2:2:2)-Process id(339)-Line number(0) completed.\n",
      "2024-02-20 09:01:29 +0000     200 execution.bulk     INFO     Process name(ForkProcess-2:2:4)-Process id(351)-Line number(1) completed.\n",
      "2024-02-20 09:01:29 +0000     200 execution.bulk     INFO     Finished 3 / 5 lines.\n",
      "2024-02-20 09:01:29 +0000     200 execution.bulk     INFO     Average execution time for completed lines: 5.34 seconds. Estimated time for incomplete lines: 10.68 seconds.\n",
      "2024-02-20 09:01:29 +0000     200 execution.bulk     INFO     Process name(ForkProcess-2:2:3)-Process id(345)-Line number(3) completed.\n",
      "2024-02-20 09:01:30 +0000     200 execution.bulk     INFO     Finished 4 / 5 lines.\n",
      "2024-02-20 09:01:30 +0000     200 execution.bulk     INFO     Average execution time for completed lines: 4.26 seconds. Estimated time for incomplete lines: 4.26 seconds.\n",
      "2024-02-20 09:01:32 +0000     200 execution.bulk     INFO     Process name(ForkProcess-2:2:1)-Process id(331)-Line number(4) completed.\n",
      "2024-02-20 09:01:32 +0000     200 execution.bulk     INFO     Finished 5 / 5 lines.\n",
      "2024-02-20 09:01:32 +0000     200 execution.bulk     INFO     Average execution time for completed lines: 3.81 seconds. Estimated time for incomplete lines: 0.0 seconds.\n",
      "2024-02-20 09:01:34 +0000     200 execution.bulk     INFO     Executing aggregation nodes...\n",
      "2024-02-20 09:01:34 +0000     200 execution.bulk     INFO     Finish executing aggregation nodes.\n",
      "2024-02-20 09:01:34 +0000     200 promptflow-runtime INFO     Post processing batch result...\n",
      "2024-02-20 09:01:38 +0000     200 execution.bulk     INFO     Upload status summary metrics for run 2024_02_20_085551chat_eval_run finished in 4.078112789999977 seconds\n",
      "2024-02-20 09:01:40 +0000     200 execution.bulk     INFO     Upload metrics for run 2024_02_20_085551chat_eval_run finished in 2.482814173999998 seconds\n",
      "2024-02-20 09:01:40 +0000     200 promptflow-runtime INFO     Successfully write run properties {\"azureml.promptflow.total_tokens\": 21431, \"_azureml.evaluate_artifacts\": \"[{\\\"path\\\": \\\"instance_results.jsonl\\\", \\\"type\\\": \\\"table\\\"}]\"} with run id '2024_02_20_085551chat_eval_run'\n",
      "2024-02-20 09:01:40 +0000     200 execution.bulk     INFO     Upload RH properties for run 2024_02_20_085551chat_eval_run finished in 0.053399552000030326 seconds\n",
      "2024-02-20 09:01:40 +0000     200 promptflow-runtime INFO     Creating unregistered output Asset for Run 2024_02_20_085551chat_eval_run...\n",
      "2024-02-20 09:01:41 +0000     200 promptflow-runtime INFO     Created debug_info Asset: azureml://locations/swedencentral/workspaces/5e451cdd-2273-4e66-91a3-e0129c84f7c8/data/azureml_2024_02_20_085551chat_eval_run_output_data_debug_info/versions/1\n",
      "2024-02-20 09:01:41 +0000     200 promptflow-runtime INFO     Creating unregistered output Asset for Run 2024_02_20_085551chat_eval_run...\n",
      "2024-02-20 09:01:41 +0000     200 promptflow-runtime INFO     Created flow_outputs output Asset: azureml://locations/swedencentral/workspaces/5e451cdd-2273-4e66-91a3-e0129c84f7c8/data/azureml_2024_02_20_085551chat_eval_run_output_data_flow_outputs/versions/1\n",
      "2024-02-20 09:01:41 +0000     200 promptflow-runtime INFO     Creating Artifact for Run 2024_02_20_085551chat_eval_run...\n",
      "2024-02-20 09:01:41 +0000     200 promptflow-runtime INFO     Created instance_results.jsonl Artifact.\n",
      "2024-02-20 09:01:41 +0000     200 promptflow-runtime INFO     Patching 2024_02_20_085551chat_eval_run...\n",
      "2024-02-20 09:01:41 +0000     200 promptflow-runtime INFO     Ending the aml run '2024_02_20_085551chat_eval_run' with status 'Completed'...\n",
      "======= Run Summary =======\n",
      "Run name: \"2024_02_20_085551chat_eval_run\"\n",
      "Run status: \"Completed\"\n",
      "Start time: \"2024-02-20 09:01:13.209157+00:00\"\n",
      "Duration: \"0:00:28.288548\"\n",
      "Run url: \"https://ai.azure.com/projectflows/bulkrun/run/2024_02_20_085551chat_eval_run/details?wsid=/subscriptions/1e4ae802-8745-41ee-82bc-39495818793d/resourcegroups/contoso-chat-rg/providers/Microsoft.MachineLearningServices/workspaces/contoso-chat-sf-aiproj\""
     ]
    },
    {
     "data": {
      "text/plain": [
       "<promptflow._sdk.entities._run.Run at 0x7f47fbf54910>"
      ]
     },
     "execution_count": 17,
     "metadata": {},
     "output_type": "execute_result"
    }
   ],
   "source": [
    "pf_azure_client.stream(eval_run_variant)"
   ]
  },
  {
   "cell_type": "code",
   "execution_count": 18,
   "metadata": {},
   "outputs": [
    {
     "data": {
      "text/html": [
       "<div>\n",
       "<style scoped>\n",
       "    .dataframe tbody tr th:only-of-type {\n",
       "        vertical-align: middle;\n",
       "    }\n",
       "\n",
       "    .dataframe tbody tr th {\n",
       "        vertical-align: top;\n",
       "    }\n",
       "\n",
       "    .dataframe thead th {\n",
       "        text-align: right;\n",
       "    }\n",
       "</style>\n",
       "<table border=\"1\" class=\"dataframe\">\n",
       "  <thead>\n",
       "    <tr style=\"text-align: right;\">\n",
       "      <th></th>\n",
       "      <th>inputs.customerId</th>\n",
       "      <th>inputs.question</th>\n",
       "      <th>inputs.context</th>\n",
       "      <th>inputs.answer</th>\n",
       "      <th>inputs.line_number</th>\n",
       "      <th>inputs.chat_history</th>\n",
       "      <th>outputs.gpt_coherence</th>\n",
       "      <th>outputs.gpt_fluency</th>\n",
       "      <th>outputs.gpt_groundedness</th>\n",
       "      <th>outputs.gpt_relevance</th>\n",
       "    </tr>\n",
       "    <tr>\n",
       "      <th>outputs.line_number</th>\n",
       "      <th></th>\n",
       "      <th></th>\n",
       "      <th></th>\n",
       "      <th></th>\n",
       "      <th></th>\n",
       "      <th></th>\n",
       "      <th></th>\n",
       "      <th></th>\n",
       "      <th></th>\n",
       "      <th></th>\n",
       "    </tr>\n",
       "  </thead>\n",
       "  <tbody>\n",
       "    <tr>\n",
       "      <th>0</th>\n",
       "      <td>4</td>\n",
       "      <td>tell me about your hiking jackets</td>\n",
       "      <td>[{'id': '17', 'title': 'RainGuard Hiking Jacke...</td>\n",
       "      <td>Hey Sarah Lee! 🌲🧥\\nOur hiking jackets are perf...</td>\n",
       "      <td>0</td>\n",
       "      <td>[]</td>\n",
       "      <td>5.0</td>\n",
       "      <td>5.0</td>\n",
       "      <td>5.0</td>\n",
       "      <td>5.0</td>\n",
       "    </tr>\n",
       "    <tr>\n",
       "      <th>1</th>\n",
       "      <td>1</td>\n",
       "      <td>Do you have any climbing gear?</td>\n",
       "      <td>[{'id': '9', 'title': 'SummitClimber Backpack'...</td>\n",
       "      <td>Hey John! 👋 Absolutely, we have some awesome c...</td>\n",
       "      <td>1</td>\n",
       "      <td>[]</td>\n",
       "      <td>5.0</td>\n",
       "      <td>5.0</td>\n",
       "      <td>1.0</td>\n",
       "      <td>5.0</td>\n",
       "    </tr>\n",
       "    <tr>\n",
       "      <th>2</th>\n",
       "      <td>3</td>\n",
       "      <td>Can you tell me about your selection of tents?</td>\n",
       "      <td>[{'id': '15', 'title': 'SkyView 2-Person Tent'...</td>\n",
       "      <td>Hey Michael! 👋 We've got a great selection of ...</td>\n",
       "      <td>2</td>\n",
       "      <td>[]</td>\n",
       "      <td>5.0</td>\n",
       "      <td>5.0</td>\n",
       "      <td>5.0</td>\n",
       "      <td>5.0</td>\n",
       "    </tr>\n",
       "    <tr>\n",
       "      <th>3</th>\n",
       "      <td>6</td>\n",
       "      <td>Do you have any hiking boots?</td>\n",
       "      <td>[{'id': '4', 'title': 'TrekReady Hiking Boots'...</td>\n",
       "      <td>Hey Emily! 👋 Absolutely, we have some fantasti...</td>\n",
       "      <td>3</td>\n",
       "      <td>[]</td>\n",
       "      <td>5.0</td>\n",
       "      <td>5.0</td>\n",
       "      <td>5.0</td>\n",
       "      <td>5.0</td>\n",
       "    </tr>\n",
       "    <tr>\n",
       "      <th>4</th>\n",
       "      <td>2</td>\n",
       "      <td>What gear do you recommend for hiking?</td>\n",
       "      <td>[{'id': '10', 'title': 'TrailBlaze Hiking Pant...</td>\n",
       "      <td>Hey Jane! 🌲 For hiking, I highly recommend the...</td>\n",
       "      <td>4</td>\n",
       "      <td>[]</td>\n",
       "      <td>4.0</td>\n",
       "      <td>4.0</td>\n",
       "      <td>5.0</td>\n",
       "      <td>5.0</td>\n",
       "    </tr>\n",
       "  </tbody>\n",
       "</table>\n",
       "</div>"
      ],
      "text/plain": [
       "                    inputs.customerId  \\\n",
       "outputs.line_number                     \n",
       "0                                   4   \n",
       "1                                   1   \n",
       "2                                   3   \n",
       "3                                   6   \n",
       "4                                   2   \n",
       "\n",
       "                                                    inputs.question  \\\n",
       "outputs.line_number                                                   \n",
       "0                                 tell me about your hiking jackets   \n",
       "1                                    Do you have any climbing gear?   \n",
       "2                    Can you tell me about your selection of tents?   \n",
       "3                                     Do you have any hiking boots?   \n",
       "4                            What gear do you recommend for hiking?   \n",
       "\n",
       "                                                        inputs.context  \\\n",
       "outputs.line_number                                                      \n",
       "0                    [{'id': '17', 'title': 'RainGuard Hiking Jacke...   \n",
       "1                    [{'id': '9', 'title': 'SummitClimber Backpack'...   \n",
       "2                    [{'id': '15', 'title': 'SkyView 2-Person Tent'...   \n",
       "3                    [{'id': '4', 'title': 'TrekReady Hiking Boots'...   \n",
       "4                    [{'id': '10', 'title': 'TrailBlaze Hiking Pant...   \n",
       "\n",
       "                                                         inputs.answer  \\\n",
       "outputs.line_number                                                      \n",
       "0                    Hey Sarah Lee! 🌲🧥\\nOur hiking jackets are perf...   \n",
       "1                    Hey John! 👋 Absolutely, we have some awesome c...   \n",
       "2                    Hey Michael! 👋 We've got a great selection of ...   \n",
       "3                    Hey Emily! 👋 Absolutely, we have some fantasti...   \n",
       "4                    Hey Jane! 🌲 For hiking, I highly recommend the...   \n",
       "\n",
       "                     inputs.line_number inputs.chat_history  \\\n",
       "outputs.line_number                                           \n",
       "0                                     0                  []   \n",
       "1                                     1                  []   \n",
       "2                                     2                  []   \n",
       "3                                     3                  []   \n",
       "4                                     4                  []   \n",
       "\n",
       "                     outputs.gpt_coherence  outputs.gpt_fluency  \\\n",
       "outputs.line_number                                               \n",
       "0                                      5.0                  5.0   \n",
       "1                                      5.0                  5.0   \n",
       "2                                      5.0                  5.0   \n",
       "3                                      5.0                  5.0   \n",
       "4                                      4.0                  4.0   \n",
       "\n",
       "                     outputs.gpt_groundedness  outputs.gpt_relevance  \n",
       "outputs.line_number                                                   \n",
       "0                                         5.0                    5.0  \n",
       "1                                         1.0                    5.0  \n",
       "2                                         5.0                    5.0  \n",
       "3                                         5.0                    5.0  \n",
       "4                                         5.0                    5.0  "
      ]
     },
     "execution_count": 18,
     "metadata": {},
     "output_type": "execute_result"
    }
   ],
   "source": [
    "details = pf_azure_client.get_details(eval_run_variant)\n",
    "details.head(10)"
   ]
  },
  {
   "cell_type": "code",
   "execution_count": 19,
   "metadata": {},
   "outputs": [
    {
     "name": "stdout",
     "output_type": "stream",
     "text": [
      "{\n",
      "    \"gpt_coherence\": 4.8,\n",
      "    \"gpt_coherence_pass_rate(%)\": 100.0,\n",
      "    \"gpt_fluency\": 4.8,\n",
      "    \"gpt_fluency_pass_rate(%)\": 100.0,\n",
      "    \"gpt_groundedness\": 4.2,\n",
      "    \"gpt_groundedness_pass_rate(%)\": 80.0,\n",
      "    \"gpt_relevance\": 5.0,\n",
      "    \"gpt_relevance_pass_rate(%)\": 100.0\n",
      "}\n"
     ]
    }
   ],
   "source": [
    "\n",
    "metrics = pf_azure_client.get_metrics(eval_run_variant)\n",
    "print(json.dumps(metrics, indent=4))"
   ]
  },
  {
   "cell_type": "code",
   "execution_count": 20,
   "metadata": {},
   "outputs": [
    {
     "name": "stdout",
     "output_type": "stream",
     "text": [
      "Web View: https://ml.azure.com/prompts/flow/bulkrun/runs/outputs?wsid=/subscriptions/1e4ae802-8745-41ee-82bc-39495818793d/resourceGroups/contoso-chat-rg/providers/Microsoft.MachineLearningServices/workspaces/contoso-chat-sf-aiproj&runId=2024_02_20_085551chat_base_run,2024_02_20_085551chat_eval_run\n"
     ]
    }
   ],
   "source": [
    "pf_azure_client.visualize([base_run, eval_run_variant])"
   ]
  }
 ],
 "metadata": {
  "kernelspec": {
   "display_name": ".venv",
   "language": "python",
   "name": "python3"
  },
  "language_info": {
   "codemirror_mode": {
    "name": "ipython",
    "version": 3
   },
   "file_extension": ".py",
   "mimetype": "text/x-python",
   "name": "python",
   "nbconvert_exporter": "python",
   "pygments_lexer": "ipython3",
   "version": "3.11.8"
  }
 },
 "nbformat": 4,
 "nbformat_minor": 2
}
